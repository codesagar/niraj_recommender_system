{
 "cells": [
  {
   "cell_type": "code",
   "execution_count": 1,
   "id": "86b19de3",
   "metadata": {
    "ExecuteTime": {
     "end_time": "2022-04-23T23:57:38.605364Z",
     "start_time": "2022-04-23T23:57:38.161161Z"
    }
   },
   "outputs": [],
   "source": [
    "import pandas as pd\n",
    "import numpy as np"
   ]
  },
  {
   "cell_type": "code",
   "execution_count": 2,
   "id": "1176651e",
   "metadata": {
    "ExecuteTime": {
     "end_time": "2022-04-23T23:57:39.142851Z",
     "start_time": "2022-04-23T23:57:39.136539Z"
    }
   },
   "outputs": [],
   "source": [
    "def initial_matix(n_users=10000, n_restaurants=1000, sparsity=0.9):\n",
    "    rating_matrix = np.random.choice([1,3,4,5],size=(n_users,n_restaurants))\n",
    "    zero_indices = np.random.choice(rating_matrix.shape[1]*rating_matrix.shape[0], replace=False, size=int(rating_matrix.shape[1]*rating_matrix.shape[0]*sparsity))\n",
    "    rating_matrix[np.unravel_index(zero_indices, rating_matrix.shape)] = 0 \n",
    "    return rating_matrix"
   ]
  },
  {
   "cell_type": "code",
   "execution_count": 3,
   "id": "c70d173c",
   "metadata": {
    "ExecuteTime": {
     "end_time": "2022-04-23T23:57:39.699359Z",
     "start_time": "2022-04-23T23:57:39.600763Z"
    }
   },
   "outputs": [],
   "source": [
    "from surprise import Dataset, Reader, KNNWithMeans\n",
    "import pandas as pd"
   ]
  },
  {
   "cell_type": "code",
   "execution_count": 4,
   "id": "c5b66de7",
   "metadata": {
    "ExecuteTime": {
     "end_time": "2022-04-23T23:57:40.219032Z",
     "start_time": "2022-04-23T23:57:40.170162Z"
    }
   },
   "outputs": [
    {
     "data": {
      "text/html": [
       "<div>\n",
       "<style scoped>\n",
       "    .dataframe tbody tr th:only-of-type {\n",
       "        vertical-align: middle;\n",
       "    }\n",
       "\n",
       "    .dataframe tbody tr th {\n",
       "        vertical-align: top;\n",
       "    }\n",
       "\n",
       "    .dataframe thead th {\n",
       "        text-align: right;\n",
       "    }\n",
       "</style>\n",
       "<table border=\"1\" class=\"dataframe\">\n",
       "  <thead>\n",
       "    <tr style=\"text-align: right;\">\n",
       "      <th></th>\n",
       "      <th>user_id</th>\n",
       "      <th>restaurant_id</th>\n",
       "      <th>rating</th>\n",
       "    </tr>\n",
       "  </thead>\n",
       "  <tbody>\n",
       "    <tr>\n",
       "      <th>49000</th>\n",
       "      <td>0</td>\n",
       "      <td>49</td>\n",
       "      <td>4</td>\n",
       "    </tr>\n",
       "    <tr>\n",
       "      <th>5000</th>\n",
       "      <td>0</td>\n",
       "      <td>5</td>\n",
       "      <td>3</td>\n",
       "    </tr>\n",
       "    <tr>\n",
       "      <th>65000</th>\n",
       "      <td>0</td>\n",
       "      <td>65</td>\n",
       "      <td>3</td>\n",
       "    </tr>\n",
       "    <tr>\n",
       "      <th>12000</th>\n",
       "      <td>0</td>\n",
       "      <td>12</td>\n",
       "      <td>5</td>\n",
       "    </tr>\n",
       "    <tr>\n",
       "      <th>14000</th>\n",
       "      <td>0</td>\n",
       "      <td>14</td>\n",
       "      <td>1</td>\n",
       "    </tr>\n",
       "    <tr>\n",
       "      <th>...</th>\n",
       "      <td>...</td>\n",
       "      <td>...</td>\n",
       "      <td>...</td>\n",
       "    </tr>\n",
       "    <tr>\n",
       "      <th>13999</th>\n",
       "      <td>999</td>\n",
       "      <td>13</td>\n",
       "      <td>3</td>\n",
       "    </tr>\n",
       "    <tr>\n",
       "      <th>28999</th>\n",
       "      <td>999</td>\n",
       "      <td>28</td>\n",
       "      <td>1</td>\n",
       "    </tr>\n",
       "    <tr>\n",
       "      <th>85999</th>\n",
       "      <td>999</td>\n",
       "      <td>85</td>\n",
       "      <td>4</td>\n",
       "    </tr>\n",
       "    <tr>\n",
       "      <th>71999</th>\n",
       "      <td>999</td>\n",
       "      <td>71</td>\n",
       "      <td>4</td>\n",
       "    </tr>\n",
       "    <tr>\n",
       "      <th>34999</th>\n",
       "      <td>999</td>\n",
       "      <td>34</td>\n",
       "      <td>1</td>\n",
       "    </tr>\n",
       "  </tbody>\n",
       "</table>\n",
       "<p>10000 rows × 3 columns</p>\n",
       "</div>"
      ],
      "text/plain": [
       "       user_id restaurant_id  rating\n",
       "49000        0            49       4\n",
       "5000         0             5       3\n",
       "65000        0            65       3\n",
       "12000        0            12       5\n",
       "14000        0            14       1\n",
       "...        ...           ...     ...\n",
       "13999      999            13       3\n",
       "28999      999            28       1\n",
       "85999      999            85       4\n",
       "71999      999            71       4\n",
       "34999      999            34       1\n",
       "\n",
       "[10000 rows x 3 columns]"
      ]
     },
     "execution_count": 4,
     "metadata": {},
     "output_type": "execute_result"
    }
   ],
   "source": [
    "rating_matrix = pd.DataFrame(initial_matix(n_users=1000,n_restaurants=100))\n",
    "rating_matrix['index'] = list(range(rating_matrix.shape[0]))\n",
    "ratings = rating_matrix.melt(id_vars='index',var_name='restaurant_id',value_name='rating')\n",
    "ratings.rename(columns = {'index':'user_id'}, inplace=True)\n",
    "ratings = ratings[ratings['rating']!=0]\n",
    "ratings.sort_values('user_id')"
   ]
  },
  {
   "cell_type": "code",
   "execution_count": 21,
   "id": "f7c41eed",
   "metadata": {
    "ExecuteTime": {
     "end_time": "2022-04-24T04:52:59.139880Z",
     "start_time": "2022-04-24T04:52:59.134723Z"
    }
   },
   "outputs": [],
   "source": [
    "idx = (ratings['user_id'] == 999) & (ratings['restaurant_id'] == 71)"
   ]
  },
  {
   "cell_type": "code",
   "execution_count": 26,
   "id": "ce764ca2",
   "metadata": {
    "ExecuteTime": {
     "end_time": "2022-04-24T04:54:03.861972Z",
     "start_time": "2022-04-24T04:54:03.858588Z"
    }
   },
   "outputs": [],
   "source": [
    "ratings.loc[idx,'rating'] = 3"
   ]
  },
  {
   "cell_type": "code",
   "execution_count": 39,
   "id": "744d1a79",
   "metadata": {
    "ExecuteTime": {
     "end_time": "2022-04-24T04:59:00.447699Z",
     "start_time": "2022-04-24T04:59:00.442515Z"
    }
   },
   "outputs": [
    {
     "data": {
      "text/plain": [
       "3"
      ]
     },
     "execution_count": 39,
     "metadata": {},
     "output_type": "execute_result"
    }
   ],
   "source": [
    "ratings.loc[idx]['rating'].values[0]"
   ]
  },
  {
   "cell_type": "code",
   "execution_count": 5,
   "id": "7c1a5d79",
   "metadata": {
    "ExecuteTime": {
     "end_time": "2022-04-23T23:57:40.796888Z",
     "start_time": "2022-04-23T23:57:40.779868Z"
    }
   },
   "outputs": [],
   "source": [
    "reader = Reader(rating_scale=(0, 5))\n",
    "data = Dataset.load_from_df(ratings, reader)"
   ]
  },
  {
   "cell_type": "code",
   "execution_count": 6,
   "id": "4e23a856",
   "metadata": {
    "ExecuteTime": {
     "end_time": "2022-04-23T23:57:41.179491Z",
     "start_time": "2022-04-23T23:57:41.174163Z"
    }
   },
   "outputs": [],
   "source": [
    "sim_parameters = {'name': 'cosine', 'user_based': True, 'min_support': 5}\n",
    "algo = KNNWithMeans(sim_options=sim_parameters, k=10)"
   ]
  },
  {
   "cell_type": "code",
   "execution_count": 7,
   "id": "1efe2f6f",
   "metadata": {
    "ExecuteTime": {
     "end_time": "2022-04-23T23:57:43.750991Z",
     "start_time": "2022-04-23T23:57:41.510791Z"
    }
   },
   "outputs": [
    {
     "name": "stdout",
     "output_type": "stream",
     "text": [
      "Computing the cosine similarity matrix...\n",
      "Done computing similarity matrix.\n"
     ]
    }
   ],
   "source": [
    "trainset = data.build_full_trainset()\n",
    "algo.fit(trainset)\n",
    "testset = trainset.build_anti_testset()\n",
    "predictions = algo.test(testset)"
   ]
  },
  {
   "cell_type": "code",
   "execution_count": 8,
   "id": "424e9752",
   "metadata": {
    "ExecuteTime": {
     "end_time": "2022-04-23T23:57:44.008930Z",
     "start_time": "2022-04-23T23:57:43.984105Z"
    }
   },
   "outputs": [],
   "source": [
    "from collections import defaultdict\n",
    "def get_top_n(predictions, n=10):\n",
    "    '''Return the top-N recommendation for each user from a set of predictions.\n",
    "    Args:\n",
    "        predictions(list of Prediction objects): The list of predictions, as\n",
    "            returned by the test method of an algorithm.\n",
    "        n(int): The number of recommendation to output for each user. Default\n",
    "            is 10.\n",
    "    Returns:\n",
    "    A dict where keys are user (raw) ids and values are lists of tuples:\n",
    "        [(raw item id, rating estimation), ...] of size n.\n",
    "    '''\n",
    "    # First map the predictions to each user.\n",
    "    top_n = defaultdict(list)\n",
    "    for uid, iid, true_r, est, _ in predictions:\n",
    "        top_n[uid].append((iid, est))\n",
    "\n",
    "    # Then sort the predictions for each user and retrieve the k highest ones.\n",
    "    for uid, user_ratings in top_n.items():\n",
    "        user_ratings.sort(key=lambda x: x[1], reverse=True)\n",
    "        top_n[uid] = user_ratings[:n]\n",
    "\n",
    "    return top_n\n",
    "\n",
    "top_n = get_top_n(predictions, n=10)"
   ]
  },
  {
   "cell_type": "code",
   "execution_count": 12,
   "id": "295a6333",
   "metadata": {
    "ExecuteTime": {
     "end_time": "2022-04-23T23:58:12.189815Z",
     "start_time": "2022-04-23T23:58:12.184543Z"
    }
   },
   "outputs": [
    {
     "name": "stdout",
     "output_type": "stream",
     "text": [
      "11 [41, 42, 74, 36, 76, 23, 84, 97, 1, 3]\n",
      "32 [1, 2, 3, 4, 5, 6, 8, 9, 10, 11]\n",
      "33 [1, 2, 3, 4, 5, 6, 7, 8, 9, 10]\n",
      "57 [4, 23, 27, 44, 52, 67, 80, 81, 53, 62]\n",
      "65 [79, 20, 37, 62, 1, 39, 64, 73, 22, 19]\n",
      "66 [14, 16, 63, 73, 75, 86, 93, 95, 35, 50]\n",
      "89 [1, 2, 3, 4, 5, 6, 7, 8, 9, 10]\n",
      "95 [1, 2, 3, 4, 5, 6, 7, 8, 9, 10]\n",
      "96 [1, 30, 31, 64, 66, 73, 42, 69, 79, 29]\n",
      "103 [58, 93, 96, 11, 65, 35, 30, 57, 91, 51]\n"
     ]
    }
   ],
   "source": [
    "from itertools import islice\n",
    "\n",
    "def take(n, iterable):\n",
    "    \"Return first n items of the iterable as a list\"\n",
    "    return list(islice(iterable, n))\n",
    "\n",
    "for uid, user_ratings in take(10,top_n.items()):\n",
    "    print(uid, [iid for (iid, _) in user_ratings])"
   ]
  },
  {
   "cell_type": "code",
   "execution_count": 11,
   "id": "effaf22d",
   "metadata": {
    "ExecuteTime": {
     "end_time": "2022-04-23T23:58:02.527154Z",
     "start_time": "2022-04-23T23:58:02.522594Z"
    }
   },
   "outputs": [
    {
     "data": {
      "text/plain": [
       "[(3, 5),\n",
       " (19, 5),\n",
       " (24, 5),\n",
       " (58, 5),\n",
       " (73, 4.95747334577953),\n",
       " (30, 4.900953957598404),\n",
       " (93, 4.825174825174825),\n",
       " (48, 4.5174825174825175),\n",
       " (95, 4.440559440559441),\n",
       " (80, 4.247064909273087)]"
      ]
     },
     "execution_count": 11,
     "metadata": {},
     "output_type": "execute_result"
    }
   ],
   "source": [
    "top_n[0]"
   ]
  },
  {
   "cell_type": "code",
   "execution_count": null,
   "id": "7ba25bc9",
   "metadata": {},
   "outputs": [],
   "source": []
  }
 ],
 "metadata": {
  "kernelspec": {
   "display_name": "Python 3 (ipykernel)",
   "language": "python",
   "name": "python3"
  },
  "language_info": {
   "codemirror_mode": {
    "name": "ipython",
    "version": 3
   },
   "file_extension": ".py",
   "mimetype": "text/x-python",
   "name": "python",
   "nbconvert_exporter": "python",
   "pygments_lexer": "ipython3",
   "version": "3.8.12"
  },
  "varInspector": {
   "cols": {
    "lenName": 16,
    "lenType": 16,
    "lenVar": 40
   },
   "kernels_config": {
    "python": {
     "delete_cmd_postfix": "",
     "delete_cmd_prefix": "del ",
     "library": "var_list.py",
     "varRefreshCmd": "print(var_dic_list())"
    },
    "r": {
     "delete_cmd_postfix": ") ",
     "delete_cmd_prefix": "rm(",
     "library": "var_list.r",
     "varRefreshCmd": "cat(var_dic_list()) "
    }
   },
   "types_to_exclude": [
    "module",
    "function",
    "builtin_function_or_method",
    "instance",
    "_Feature"
   ],
   "window_display": false
  }
 },
 "nbformat": 4,
 "nbformat_minor": 5
}
